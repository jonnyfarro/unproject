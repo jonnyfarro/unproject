{
 "cells": [
  {
   "cell_type": "code",
   "execution_count": 162,
   "id": "188c2cb2-5d2b-408d-8487-67cf8e8a9f2e",
   "metadata": {},
   "outputs": [],
   "source": [
    "import pandas as pd\n",
    "import numpy as np\n",
    "import matplotlib.pyplot as plt\n",
    "import seaborn as sns"
   ]
  },
  {
   "cell_type": "code",
   "execution_count": 164,
   "id": "6b41befe-7fa1-41e6-a62b-6b1606febe35",
   "metadata": {
    "panel-layout": {
     "height": 173,
     "visible": true,
     "width": 100
    }
   },
   "outputs": [
    {
     "data": {
      "text/html": [
       "<div>\n",
       "<style scoped>\n",
       "    .dataframe tbody tr th:only-of-type {\n",
       "        vertical-align: middle;\n",
       "    }\n",
       "\n",
       "    .dataframe tbody tr th {\n",
       "        vertical-align: top;\n",
       "    }\n",
       "\n",
       "    .dataframe thead th {\n",
       "        text-align: right;\n",
       "    }\n",
       "</style>\n",
       "<table border=\"1\" class=\"dataframe\">\n",
       "  <thead>\n",
       "    <tr style=\"text-align: right;\">\n",
       "      <th></th>\n",
       "      <th>Country or Area</th>\n",
       "      <th>Year</th>\n",
       "      <th>Value</th>\n",
       "      <th>Value Footnotes</th>\n",
       "    </tr>\n",
       "  </thead>\n",
       "  <tbody>\n",
       "    <tr>\n",
       "      <th>0</th>\n",
       "      <td>Afghanistan</td>\n",
       "      <td>2021</td>\n",
       "      <td>1517.016266</td>\n",
       "      <td>NaN</td>\n",
       "    </tr>\n",
       "    <tr>\n",
       "      <th>1</th>\n",
       "      <td>Afghanistan</td>\n",
       "      <td>2020</td>\n",
       "      <td>1968.341002</td>\n",
       "      <td>NaN</td>\n",
       "    </tr>\n",
       "    <tr>\n",
       "      <th>2</th>\n",
       "      <td>Afghanistan</td>\n",
       "      <td>2019</td>\n",
       "      <td>2079.921861</td>\n",
       "      <td>NaN</td>\n",
       "    </tr>\n",
       "    <tr>\n",
       "      <th>3</th>\n",
       "      <td>Afghanistan</td>\n",
       "      <td>2018</td>\n",
       "      <td>2060.698973</td>\n",
       "      <td>NaN</td>\n",
       "    </tr>\n",
       "    <tr>\n",
       "      <th>4</th>\n",
       "      <td>Afghanistan</td>\n",
       "      <td>2017</td>\n",
       "      <td>2096.093111</td>\n",
       "      <td>NaN</td>\n",
       "    </tr>\n",
       "  </tbody>\n",
       "</table>\n",
       "</div>"
      ],
      "text/plain": [
       "  Country or Area  Year        Value  Value Footnotes\n",
       "0     Afghanistan  2021  1517.016266              NaN\n",
       "1     Afghanistan  2020  1968.341002              NaN\n",
       "2     Afghanistan  2019  2079.921861              NaN\n",
       "3     Afghanistan  2018  2060.698973              NaN\n",
       "4     Afghanistan  2017  2096.093111              NaN"
      ]
     },
     "execution_count": 164,
     "metadata": {},
     "output_type": "execute_result"
    }
   ],
   "source": [
    "gdp_df = pd.read_csv(\"/Users/jonathanfarro/Documents/NSS/Python/projects/gdp-and-internet-usage-jonnyfarro/data/gdp_percapita.csv\")\n",
    "gdp_df.head()\n"
   ]
  },
  {
   "cell_type": "code",
   "execution_count": 166,
   "id": "295888dc-a0ef-41ea-9f07-cd41bd9b03d9",
   "metadata": {
    "panel-layout": {
     "height": 27,
     "visible": true,
     "width": 100
    }
   },
   "outputs": [
    {
     "data": {
      "text/plain": [
       "(7662, 4)"
      ]
     },
     "execution_count": 166,
     "metadata": {},
     "output_type": "execute_result"
    }
   ],
   "source": [
    "gdp_df.shape"
   ]
  },
  {
   "cell_type": "code",
   "execution_count": 168,
   "id": "691cbc17-8637-411e-bea3-a72ef8da635b",
   "metadata": {
    "panel-layout": {
     "height": 27,
     "visible": true,
     "width": 100
    }
   },
   "outputs": [
    {
     "data": {
      "text/plain": [
       "Index(['Country or Area', 'Year', 'Value', 'Value Footnotes'], dtype='object')"
      ]
     },
     "execution_count": 168,
     "metadata": {},
     "output_type": "execute_result"
    }
   ],
   "source": [
    "gdp_df.columns"
   ]
  },
  {
   "cell_type": "markdown",
   "id": "5f053c0a-922a-4c6a-bad9-e965216ee8fc",
   "metadata": {
    "panel-layout": {
     "height": 52,
     "visible": true,
     "width": 100
    }
   },
   "source": [
    "How many rows and columns are in `gdp_df`? What are the data types of each column? "
   ]
  },
  {
   "cell_type": "markdown",
   "id": "aadf18ee-f7b3-4e1c-b5d0-f3485e020833",
   "metadata": {
    "panel-layout": {
     "height": 51,
     "visible": true,
     "width": 100
    }
   },
   "source": [
    "7662,4 -objects "
   ]
  },
  {
   "cell_type": "code",
   "execution_count": 172,
   "id": "d3f57ffe-36e3-43d5-b2aa-93ae137ecd4a",
   "metadata": {},
   "outputs": [
    {
     "data": {
      "text/html": [
       "<div>\n",
       "<style scoped>\n",
       "    .dataframe tbody tr th:only-of-type {\n",
       "        vertical-align: middle;\n",
       "    }\n",
       "\n",
       "    .dataframe tbody tr th {\n",
       "        vertical-align: top;\n",
       "    }\n",
       "\n",
       "    .dataframe thead th {\n",
       "        text-align: right;\n",
       "    }\n",
       "</style>\n",
       "<table border=\"1\" class=\"dataframe\">\n",
       "  <thead>\n",
       "    <tr style=\"text-align: right;\">\n",
       "      <th></th>\n",
       "      <th>country</th>\n",
       "      <th>year</th>\n",
       "      <th>GDP_Per_Capita</th>\n",
       "    </tr>\n",
       "  </thead>\n",
       "  <tbody>\n",
       "    <tr>\n",
       "      <th>0</th>\n",
       "      <td>Afghanistan</td>\n",
       "      <td>2021</td>\n",
       "      <td>1517.016266</td>\n",
       "    </tr>\n",
       "    <tr>\n",
       "      <th>1</th>\n",
       "      <td>Afghanistan</td>\n",
       "      <td>2020</td>\n",
       "      <td>1968.341002</td>\n",
       "    </tr>\n",
       "    <tr>\n",
       "      <th>2</th>\n",
       "      <td>Afghanistan</td>\n",
       "      <td>2019</td>\n",
       "      <td>2079.921861</td>\n",
       "    </tr>\n",
       "    <tr>\n",
       "      <th>3</th>\n",
       "      <td>Afghanistan</td>\n",
       "      <td>2018</td>\n",
       "      <td>2060.698973</td>\n",
       "    </tr>\n",
       "    <tr>\n",
       "      <th>4</th>\n",
       "      <td>Afghanistan</td>\n",
       "      <td>2017</td>\n",
       "      <td>2096.093111</td>\n",
       "    </tr>\n",
       "  </tbody>\n",
       "</table>\n",
       "</div>"
      ],
      "text/plain": [
       "       country  year  GDP_Per_Capita\n",
       "0  Afghanistan  2021     1517.016266\n",
       "1  Afghanistan  2020     1968.341002\n",
       "2  Afghanistan  2019     2079.921861\n",
       "3  Afghanistan  2018     2060.698973\n",
       "4  Afghanistan  2017     2096.093111"
      ]
     },
     "execution_count": 172,
     "metadata": {},
     "output_type": "execute_result"
    }
   ],
   "source": [
    "gdp_df = gdp_df.drop(columns= ['Value Footnotes'])\n",
    "gdp_df = gdp_df.rename(columns = {'Country or Area':'country','Year':'year','Value':'GDP_Per_Capita'})\n",
    "gdp_df.head()"
   ]
  },
  {
   "cell_type": "code",
   "execution_count": 174,
   "id": "500c5602-2c10-4713-9e8f-2294917b7586",
   "metadata": {},
   "outputs": [
    {
     "data": {
      "text/html": [
       "<div>\n",
       "<style scoped>\n",
       "    .dataframe tbody tr th:only-of-type {\n",
       "        vertical-align: middle;\n",
       "    }\n",
       "\n",
       "    .dataframe tbody tr th {\n",
       "        vertical-align: top;\n",
       "    }\n",
       "\n",
       "    .dataframe thead th {\n",
       "        text-align: right;\n",
       "    }\n",
       "</style>\n",
       "<table border=\"1\" class=\"dataframe\">\n",
       "  <thead>\n",
       "    <tr style=\"text-align: right;\">\n",
       "      <th></th>\n",
       "      <th>country</th>\n",
       "      <th>count</th>\n",
       "    </tr>\n",
       "  </thead>\n",
       "  <tbody>\n",
       "    <tr>\n",
       "      <th>0</th>\n",
       "      <td>Least developed countries: UN classification</td>\n",
       "      <td>33</td>\n",
       "    </tr>\n",
       "    <tr>\n",
       "      <th>1</th>\n",
       "      <td>Middle East &amp; North Africa</td>\n",
       "      <td>33</td>\n",
       "    </tr>\n",
       "    <tr>\n",
       "      <th>2</th>\n",
       "      <td>Middle East &amp; North Africa (IDA &amp; IBRD)</td>\n",
       "      <td>33</td>\n",
       "    </tr>\n",
       "    <tr>\n",
       "      <th>3</th>\n",
       "      <td>Middle income</td>\n",
       "      <td>33</td>\n",
       "    </tr>\n",
       "    <tr>\n",
       "      <th>4</th>\n",
       "      <td>Mongolia</td>\n",
       "      <td>33</td>\n",
       "    </tr>\n",
       "    <tr>\n",
       "      <th>...</th>\n",
       "      <td>...</td>\n",
       "      <td>...</td>\n",
       "    </tr>\n",
       "    <tr>\n",
       "      <th>237</th>\n",
       "      <td>Kosovo</td>\n",
       "      <td>15</td>\n",
       "    </tr>\n",
       "    <tr>\n",
       "      <th>238</th>\n",
       "      <td>Sint Maarten (Dutch part)</td>\n",
       "      <td>14</td>\n",
       "    </tr>\n",
       "    <tr>\n",
       "      <th>239</th>\n",
       "      <td>Turks and Caicos Islands</td>\n",
       "      <td>12</td>\n",
       "    </tr>\n",
       "    <tr>\n",
       "      <th>240</th>\n",
       "      <td>Somalia</td>\n",
       "      <td>10</td>\n",
       "    </tr>\n",
       "    <tr>\n",
       "      <th>241</th>\n",
       "      <td>Djibouti</td>\n",
       "      <td>10</td>\n",
       "    </tr>\n",
       "  </tbody>\n",
       "</table>\n",
       "<p>242 rows × 2 columns</p>\n",
       "</div>"
      ],
      "text/plain": [
       "                                          country  count\n",
       "0    Least developed countries: UN classification     33\n",
       "1                      Middle East & North Africa     33\n",
       "2         Middle East & North Africa (IDA & IBRD)     33\n",
       "3                                   Middle income     33\n",
       "4                                        Mongolia     33\n",
       "..                                            ...    ...\n",
       "237                                        Kosovo     15\n",
       "238                     Sint Maarten (Dutch part)     14\n",
       "239                      Turks and Caicos Islands     12\n",
       "240                                       Somalia     10\n",
       "241                                      Djibouti     10\n",
       "\n",
       "[242 rows x 2 columns]"
      ]
     },
     "execution_count": 174,
     "metadata": {},
     "output_type": "execute_result"
    }
   ],
   "source": [
    "country_counts = gdp_df.country.value_counts().to_frame().reset_index()\n",
    "country_counts\n"
   ]
  },
  {
   "cell_type": "code",
   "execution_count": 176,
   "id": "f76e40a4-f135-42cd-a9df-9967e4a869be",
   "metadata": {},
   "outputs": [
    {
     "data": {
      "text/html": [
       "<div>\n",
       "<style scoped>\n",
       "    .dataframe tbody tr th:only-of-type {\n",
       "        vertical-align: middle;\n",
       "    }\n",
       "\n",
       "    .dataframe tbody tr th {\n",
       "        vertical-align: top;\n",
       "    }\n",
       "\n",
       "    .dataframe thead th {\n",
       "        text-align: right;\n",
       "    }\n",
       "</style>\n",
       "<table border=\"1\" class=\"dataframe\">\n",
       "  <thead>\n",
       "    <tr style=\"text-align: right;\">\n",
       "      <th></th>\n",
       "      <th>country</th>\n",
       "      <th>count</th>\n",
       "    </tr>\n",
       "  </thead>\n",
       "  <tbody>\n",
       "    <tr>\n",
       "      <th>0</th>\n",
       "      <td>Least developed countries: UN classification</td>\n",
       "      <td>33</td>\n",
       "    </tr>\n",
       "    <tr>\n",
       "      <th>1</th>\n",
       "      <td>Middle East &amp; North Africa</td>\n",
       "      <td>33</td>\n",
       "    </tr>\n",
       "    <tr>\n",
       "      <th>2</th>\n",
       "      <td>Middle East &amp; North Africa (IDA &amp; IBRD)</td>\n",
       "      <td>33</td>\n",
       "    </tr>\n",
       "    <tr>\n",
       "      <th>3</th>\n",
       "      <td>Middle income</td>\n",
       "      <td>33</td>\n",
       "    </tr>\n",
       "    <tr>\n",
       "      <th>4</th>\n",
       "      <td>Mongolia</td>\n",
       "      <td>33</td>\n",
       "    </tr>\n",
       "    <tr>\n",
       "      <th>...</th>\n",
       "      <td>...</td>\n",
       "      <td>...</td>\n",
       "    </tr>\n",
       "    <tr>\n",
       "      <th>237</th>\n",
       "      <td>Kosovo</td>\n",
       "      <td>15</td>\n",
       "    </tr>\n",
       "    <tr>\n",
       "      <th>238</th>\n",
       "      <td>Sint Maarten (Dutch part)</td>\n",
       "      <td>14</td>\n",
       "    </tr>\n",
       "    <tr>\n",
       "      <th>239</th>\n",
       "      <td>Turks and Caicos Islands</td>\n",
       "      <td>12</td>\n",
       "    </tr>\n",
       "    <tr>\n",
       "      <th>240</th>\n",
       "      <td>Somalia</td>\n",
       "      <td>10</td>\n",
       "    </tr>\n",
       "    <tr>\n",
       "      <th>241</th>\n",
       "      <td>Djibouti</td>\n",
       "      <td>10</td>\n",
       "    </tr>\n",
       "  </tbody>\n",
       "</table>\n",
       "<p>242 rows × 2 columns</p>\n",
       "</div>"
      ],
      "text/plain": [
       "                                          country  count\n",
       "0    Least developed countries: UN classification     33\n",
       "1                      Middle East & North Africa     33\n",
       "2         Middle East & North Africa (IDA & IBRD)     33\n",
       "3                                   Middle income     33\n",
       "4                                        Mongolia     33\n",
       "..                                            ...    ...\n",
       "237                                        Kosovo     15\n",
       "238                     Sint Maarten (Dutch part)     14\n",
       "239                      Turks and Caicos Islands     12\n",
       "240                                       Somalia     10\n",
       "241                                      Djibouti     10\n",
       "\n",
       "[242 rows x 2 columns]"
      ]
     },
     "execution_count": 176,
     "metadata": {},
     "output_type": "execute_result"
    }
   ],
   "source": [
    "country_counts"
   ]
  },
  {
   "cell_type": "code",
   "execution_count": 178,
   "id": "fe0654d5-3d04-4fab-9c1b-cc84a4149814",
   "metadata": {},
   "outputs": [
    {
     "data": {
      "text/plain": [
       "242"
      ]
     },
     "execution_count": 178,
     "metadata": {},
     "output_type": "execute_result"
    }
   ],
   "source": [
    "len(country_counts)"
   ]
  },
  {
   "cell_type": "code",
   "execution_count": 180,
   "id": "b659a881-85be-4a56-9d37-bcb148cd3e80",
   "metadata": {},
   "outputs": [
    {
     "data": {
      "text/plain": [
       "202"
      ]
     },
     "execution_count": 180,
     "metadata": {},
     "output_type": "execute_result"
    }
   ],
   "source": [
    "len(country_counts.loc[country_counts['count'] == 33])\n"
   ]
  },
  {
   "cell_type": "code",
   "execution_count": 182,
   "id": "622549ac-c028-4e4f-bba4-2dacd6f4b1d3",
   "metadata": {},
   "outputs": [
    {
     "data": {
      "text/plain": [
       "40"
      ]
     },
     "execution_count": 182,
     "metadata": {},
     "output_type": "execute_result"
    }
   ],
   "source": [
    "len(country_counts.loc[country_counts['count'] != 33])"
   ]
  },
  {
   "cell_type": "code",
   "execution_count": 184,
   "id": "ec692ed3-abf0-408f-b5ec-68b2f313efa2",
   "metadata": {},
   "outputs": [],
   "source": [
    "gdp_2020 = gdp_df.loc[gdp_df.year == 2020]"
   ]
  },
  {
   "cell_type": "code",
   "execution_count": 186,
   "id": "e50299cb-f96f-4d60-a000-790353ecdfd1",
   "metadata": {
    "scrolled": true
   },
   "outputs": [
    {
     "data": {
      "text/plain": [
       "array([[<Axes: title={'center': 'GDP_Per_Capita'}>]], dtype=object)"
      ]
     },
     "execution_count": 186,
     "metadata": {},
     "output_type": "execute_result"
    },
    {
     "data": {
      "image/png": "[encoded data removed]",
      "text/plain": [
       "<Figure size 640x480 with 1 Axes>"
      ]
     },
     "metadata": {},
     "output_type": "display_data"
    }
   ],
   "source": [
    "gdp_2020.hist('GDP_Per_Capita')"
   ]
  },
  {
   "cell_type": "markdown",
   "id": "d90f24aa-e3e9-4ac1-a5db-15e7771def4b",
   "metadata": {},
   "source": [
    "# bins go from min to max intervals, how many countries fit into each bin and gives a count."
   ]
  },
  {
   "cell_type": "code",
   "execution_count": 189,
   "id": "039d9e92-e6df-4f49-a737-5b0598a0392f",
   "metadata": {},
   "outputs": [],
   "source": [
    "count_year = gdp_df.year.value_counts().to_frame().reset_index()"
   ]
  },
  {
   "cell_type": "code",
   "execution_count": 191,
   "id": "8616e1c7-3490-49f2-92fd-fe2730ce4269",
   "metadata": {},
   "outputs": [
    {
     "data": {
      "text/plain": [
       "<Axes: xlabel='year'>"
      ]
     },
     "execution_count": 191,
     "metadata": {},
     "output_type": "execute_result"
    },
    {
     "data": {
      "image/png": "[encoded data removed]",
      "text/plain": [
       "<Figure size 640x480 with 1 Axes>"
      ]
     },
     "metadata": {},
     "output_type": "display_data"
    }
   ],
   "source": [
    "count_year.columns = [\"year\",\"Count\"]\n",
    "count_year.sort_values('year').plot(x = \"year\")"
   ]
  },
  {
   "cell_type": "code",
   "execution_count": 192,
   "id": "106efd66-7ff6-471b-a95e-219d44f14a3f",
   "metadata": {},
   "outputs": [
    {
     "data": {
      "text/plain": [
       "<Axes: >"
      ]
     },
     "execution_count": 192,
     "metadata": {},
     "output_type": "execute_result"
    },
    {
     "data": {
      "image/png": "[encoded data removed]",
      "text/plain": [
       "<Figure size 640x480 with 1 Axes>"
      ]
     },
     "metadata": {},
     "output_type": "display_data"
    }
   ],
   "source": [
    "gdp_2020.boxplot(\"GDP_Per_Capita\")"
   ]
  },
  {
   "cell_type": "markdown",
   "id": "6c70f3b5-cee3-4ad9-bfa4-eac952ad3496",
   "metadata": {},
   "source": [
    "--half of the values fit in the box, median in green, quarter of the country at the very bottom.\n",
    "final quarter 60000. less than ten outliers, countries making much more GDP than the rest. "
   ]
  },
  {
   "cell_type": "code",
   "execution_count": 196,
   "id": "bfb63dab-e21c-48fd-96fe-f31a45bc6b3d",
   "metadata": {},
   "outputs": [
    {
     "data": {
      "text/plain": [
       "<Axes: xlabel='GDP_Per_Capita'>"
      ]
     },
     "execution_count": 196,
     "metadata": {},
     "output_type": "execute_result"
    },
    {
     "data": {
      "image/png": "[encoded data removed]",
      "text/plain": [
       "<Figure size 640x480 with 1 Axes>"
      ]
     },
     "metadata": {},
     "output_type": "display_data"
    }
   ],
   "source": [
    "sns.violinplot(x = 'GDP_Per_Capita', data = gdp_2020) "
   ]
  },
  {
   "cell_type": "code",
   "execution_count": 198,
   "id": "c0969d5c-eaa1-4f7d-93cd-71cbf6192346",
   "metadata": {},
   "outputs": [
    {
     "data": {
      "text/plain": [
       "<Axes: xlabel='GDP_Per_Capita', ylabel='Density'>"
      ]
     },
     "execution_count": 198,
     "metadata": {},
     "output_type": "execute_result"
    },
    {
     "data": {
      "image/png": "[encoded data removed]",
      "text/plain": [
       "<Figure size 640x480 with 1 Axes>"
      ]
     },
     "metadata": {},
     "output_type": "display_data"
    }
   ],
   "source": [
    "sns.kdeplot(x = \"GDP_Per_Capita\", data = gdp_2020)"
   ]
  },
  {
   "cell_type": "code",
   "execution_count": 200,
   "id": "389affb7-ede1-450c-bfe4-269de6bea56b",
   "metadata": {},
   "outputs": [
    {
     "data": {
      "text/plain": [
       "19586.75444556196"
      ]
     },
     "execution_count": 200,
     "metadata": {},
     "output_type": "execute_result"
    }
   ],
   "source": [
    "gdp_2020.GDP_Per_Capita.mean()"
   ]
  },
  {
   "cell_type": "code",
   "execution_count": 219,
   "id": "0d119e53-ad0e-446b-a98d-5ba734b97be9",
   "metadata": {},
   "outputs": [],
   "source": [
    "gdp_decades = gdp_df.loc[gdp_df.year.isin([1990, 2000, 2010, 2020])]"
   ]
  },
  {
   "cell_type": "code",
   "execution_count": 223,
   "id": "dbfaf87f-1656-43be-bd6d-7c31606f657b",
   "metadata": {},
   "outputs": [
    {
     "data": {
      "image/png": "[encoded data removed]",
      "text/plain": [
       "<Figure size 640x480 with 1 Axes>"
      ]
     },
     "metadata": {},
     "output_type": "display_data"
    }
   ],
   "source": [
    "sns.boxplot(x= \"year\",y = \"GDP_Per_Capita\", data = gdp_decades);"
   ]
  },
  {
   "cell_type": "code",
   "execution_count": 231,
   "id": "5695a323-795e-4f98-97d4-32e06087de8a",
   "metadata": {},
   "outputs": [
    {
     "data": {
      "text/plain": [
       "<Axes: xlabel='year', ylabel='GDP_Per_Capita'>"
      ]
     },
     "execution_count": 231,
     "metadata": {},
     "output_type": "execute_result"
    },
    {
     "data": {
      "image/png": "[encoded data removed]",
      "text/plain": [
       "<Figure size 640x480 with 1 Axes>"
      ]
     },
     "metadata": {},
     "output_type": "display_data"
    }
   ],
   "source": [
    "sns.barplot( x = 'year', y = \"GDP_Per_Capita\", data = gdp_decades)"
   ]
  },
  {
   "cell_type": "code",
   "execution_count": 249,
   "id": "0d4e0207-fcc8-445d-b259-7aca1ca6ffaa",
   "metadata": {},
   "outputs": [
    {
     "data": {
      "text/plain": [
       "<Axes: xlabel='year', ylabel='GDP_Per_Capita'>"
      ]
     },
     "execution_count": 249,
     "metadata": {},
     "output_type": "execute_result"
    },
    {
     "data": {
      "image/png": "[encoded data removed]",
      "text/plain": [
       "<Figure size 640x480 with 1 Axes>"
      ]
     },
     "metadata": {},
     "output_type": "display_data"
    }
   ],
   "source": [
    "sns.regplot(x = gdp_decades.year, y = gdp_decades.GDP_Per_Capita, x_jitter = True, scatter_kws={'alpha':0.1})"
   ]
  },
  {
   "cell_type": "code",
   "execution_count": 267,
   "id": "ac68606b-e78b-42d6-9865-b2d2a491c26f",
   "metadata": {},
   "outputs": [
    {
     "data": {
      "text/html": [
       "<div>\n",
       "<style scoped>\n",
       "    .dataframe tbody tr th:only-of-type {\n",
       "        vertical-align: middle;\n",
       "    }\n",
       "\n",
       "    .dataframe tbody tr th {\n",
       "        vertical-align: top;\n",
       "    }\n",
       "\n",
       "    .dataframe thead th {\n",
       "        text-align: right;\n",
       "    }\n",
       "</style>\n",
       "<table border=\"1\" class=\"dataframe\">\n",
       "  <thead>\n",
       "    <tr style=\"text-align: right;\">\n",
       "      <th></th>\n",
       "      <th>country</th>\n",
       "      <th>year</th>\n",
       "      <th>GDP_Per_Capita</th>\n",
       "    </tr>\n",
       "  </thead>\n",
       "  <tbody>\n",
       "    <tr>\n",
       "      <th>7302</th>\n",
       "      <td>United Arab Emirates</td>\n",
       "      <td>1990</td>\n",
       "      <td>105893.626059</td>\n",
       "    </tr>\n",
       "  </tbody>\n",
       "</table>\n",
       "</div>"
      ],
      "text/plain": [
       "                   country  year  GDP_Per_Capita\n",
       "7302  United Arab Emirates  1990   105893.626059"
      ]
     },
     "execution_count": 267,
     "metadata": {},
     "output_type": "execute_result"
    }
   ],
   "source": [
    "gdp_df.loc[(gdp_df.year == gdp_df.loc[gdp_df.GDP_Per_Capita > 100000].year.min()) & (gdp_df.GDP_Per_Capita > 100000)]"
   ]
  },
  {
   "cell_type": "code",
   "execution_count": 269,
   "id": "4f3c2c73-dc84-4623-8852-8fe26b31eeb1",
   "metadata": {},
   "outputs": [],
   "source": [
    "rich =  gdp_df.loc[gdp_df.GDP_Per_Capita > 100000]"
   ]
  },
  {
   "cell_type": "code",
   "execution_count": 271,
   "id": "02dc6f66-9673-4c91-bc4b-3743eb0bbb32",
   "metadata": {},
   "outputs": [
    {
     "data": {
      "text/html": [
       "<div>\n",
       "<style scoped>\n",
       "    .dataframe tbody tr th:only-of-type {\n",
       "        vertical-align: middle;\n",
       "    }\n",
       "\n",
       "    .dataframe tbody tr th {\n",
       "        vertical-align: top;\n",
       "    }\n",
       "\n",
       "    .dataframe thead th {\n",
       "        text-align: right;\n",
       "    }\n",
       "</style>\n",
       "<table border=\"1\" class=\"dataframe\">\n",
       "  <thead>\n",
       "    <tr style=\"text-align: right;\">\n",
       "      <th></th>\n",
       "      <th>country</th>\n",
       "      <th>year</th>\n",
       "      <th>GDP_Per_Capita</th>\n",
       "    </tr>\n",
       "  </thead>\n",
       "  <tbody>\n",
       "    <tr>\n",
       "      <th>7302</th>\n",
       "      <td>United Arab Emirates</td>\n",
       "      <td>1990</td>\n",
       "      <td>105893.626059</td>\n",
       "    </tr>\n",
       "  </tbody>\n",
       "</table>\n",
       "</div>"
      ],
      "text/plain": [
       "                   country  year  GDP_Per_Capita\n",
       "7302  United Arab Emirates  1990   105893.626059"
      ]
     },
     "execution_count": 271,
     "metadata": {},
     "output_type": "execute_result"
    }
   ],
   "source": [
    "rich.sort_values('year').head(1)\n"
   ]
  },
  {
   "cell_type": "code",
   "execution_count": 279,
   "id": "c50a346d-4970-42f8-9e75-df8b128f6bf1",
   "metadata": {},
   "outputs": [],
   "source": [
    "richest_2020 = gdp_2020.sort_values('GDP_Per_Capita',ascending = False).head(1).country.to_list()"
   ]
  },
  {
   "cell_type": "code",
   "execution_count": 281,
   "id": "2acd213d-0ee1-408b-94cc-0b2a433732a4",
   "metadata": {},
   "outputs": [
    {
     "data": {
      "text/plain": [
       "['Luxembourg']"
      ]
     },
     "execution_count": 281,
     "metadata": {},
     "output_type": "execute_result"
    }
   ],
   "source": [
    "richest_2020"
   ]
  },
  {
   "cell_type": "code",
   "execution_count": 285,
   "id": "f513e5fb-56ba-4563-82fa-f648807e1572",
   "metadata": {},
   "outputs": [
    {
     "data": {
      "text/plain": [
       "0       False\n",
       "1       False\n",
       "2       False\n",
       "3       False\n",
       "4       False\n",
       "        ...  \n",
       "7657    False\n",
       "7658    False\n",
       "7659    False\n",
       "7660    False\n",
       "7661    False\n",
       "Name: country, Length: 7662, dtype: bool"
      ]
     },
     "execution_count": 285,
     "metadata": {},
     "output_type": "execute_result"
    }
   ],
   "source": [
    "gdp_df.country.isin(richest_2020)"
   ]
  },
  {
   "cell_type": "code",
   "execution_count": null,
   "id": "cd20a634-3b70-409f-9a1c-d2a7c8d394bf",
   "metadata": {},
   "outputs": [],
   "source": [
    "gdp_df.country == richest_2020 [0]"
   ]
  },
  {
   "cell_type": "code",
   "execution_count": 291,
   "id": "47bd25bb-1fb2-4534-a469-a1f83a111b2b",
   "metadata": {},
   "outputs": [
    {
     "data": {
      "text/plain": [
       "<Axes: xlabel='year'>"
      ]
     },
     "execution_count": 291,
     "metadata": {},
     "output_type": "execute_result"
    },
    {
     "data": {
      "image/png": "[encoded data removed]",
      "text/plain": [
       "<Figure size 640x480 with 1 Axes>"
      ]
     },
     "metadata": {},
     "output_type": "display_data"
    }
   ],
   "source": [
    "gdp_df.loc[gdp_df.country == richest_2020 [0]].plot(x = 'year')"
   ]
  },
  {
   "cell_type": "code",
   "execution_count": 297,
   "id": "13acbdd1-a4fa-4c8c-b8ee-cebfecd82fa6",
   "metadata": {},
   "outputs": [],
   "source": [
    "poorest_2020 = gdp_2020.sort_values('GDP_Per_Capita').head(1).country"
   ]
  },
  {
   "cell_type": "code",
   "execution_count": 299,
   "id": "cc4a21a9-9962-43ed-9c18-3a332dbba141",
   "metadata": {},
   "outputs": [
    {
     "data": {
      "text/plain": [
       "<Axes: xlabel='year'>"
      ]
     },
     "execution_count": 299,
     "metadata": {},
     "output_type": "execute_result"
    },
    {
     "data": {
      "image/png": "[encoded data removed]",
      "text/plain": [
       "<Figure size 640x480 with 1 Axes>"
      ]
     },
     "metadata": {},
     "output_type": "display_data"
    }
   ],
   "source": [
    "gdp_df.loc[gdp_df.country.isin(poorest_2020)].plot(x = 'year')"
   ]
  },
  {
   "cell_type": "code",
   "execution_count": 301,
   "id": "6c65c520-4a2c-4f0e-bc2c-3310e8cabca8",
   "metadata": {},
   "outputs": [
    {
     "data": {
      "text/html": [
       "<div>\n",
       "<style scoped>\n",
       "    .dataframe tbody tr th:only-of-type {\n",
       "        vertical-align: middle;\n",
       "    }\n",
       "\n",
       "    .dataframe tbody tr th {\n",
       "        vertical-align: top;\n",
       "    }\n",
       "\n",
       "    .dataframe thead th {\n",
       "        text-align: right;\n",
       "    }\n",
       "</style>\n",
       "<table border=\"1\" class=\"dataframe\">\n",
       "  <thead>\n",
       "    <tr style=\"text-align: right;\">\n",
       "      <th></th>\n",
       "      <th>country</th>\n",
       "      <th>year</th>\n",
       "      <th>GDP_Per_Capita</th>\n",
       "    </tr>\n",
       "  </thead>\n",
       "  <tbody>\n",
       "    <tr>\n",
       "      <th>1</th>\n",
       "      <td>Afghanistan</td>\n",
       "      <td>2020</td>\n",
       "      <td>1968.341002</td>\n",
       "    </tr>\n",
       "    <tr>\n",
       "      <th>22</th>\n",
       "      <td>Africa Eastern and Southern</td>\n",
       "      <td>2020</td>\n",
       "      <td>3455.023119</td>\n",
       "    </tr>\n",
       "    <tr>\n",
       "      <th>55</th>\n",
       "      <td>Africa Western and Central</td>\n",
       "      <td>2020</td>\n",
       "      <td>3957.933804</td>\n",
       "    </tr>\n",
       "    <tr>\n",
       "      <th>88</th>\n",
       "      <td>Albania</td>\n",
       "      <td>2020</td>\n",
       "      <td>13278.369769</td>\n",
       "    </tr>\n",
       "    <tr>\n",
       "      <th>121</th>\n",
       "      <td>Algeria</td>\n",
       "      <td>2020</td>\n",
       "      <td>10844.770764</td>\n",
       "    </tr>\n",
       "    <tr>\n",
       "      <th>...</th>\n",
       "      <td>...</td>\n",
       "      <td>...</td>\n",
       "      <td>...</td>\n",
       "    </tr>\n",
       "    <tr>\n",
       "      <th>7503</th>\n",
       "      <td>Viet Nam</td>\n",
       "      <td>2020</td>\n",
       "      <td>10450.622382</td>\n",
       "    </tr>\n",
       "    <tr>\n",
       "      <th>7536</th>\n",
       "      <td>West Bank and Gaza</td>\n",
       "      <td>2020</td>\n",
       "      <td>5402.538773</td>\n",
       "    </tr>\n",
       "    <tr>\n",
       "      <th>7565</th>\n",
       "      <td>World</td>\n",
       "      <td>2020</td>\n",
       "      <td>16204.169107</td>\n",
       "    </tr>\n",
       "    <tr>\n",
       "      <th>7598</th>\n",
       "      <td>Zambia</td>\n",
       "      <td>2020</td>\n",
       "      <td>3183.650773</td>\n",
       "    </tr>\n",
       "    <tr>\n",
       "      <th>7631</th>\n",
       "      <td>Zimbabwe</td>\n",
       "      <td>2020</td>\n",
       "      <td>1990.319419</td>\n",
       "    </tr>\n",
       "  </tbody>\n",
       "</table>\n",
       "<p>242 rows × 3 columns</p>\n",
       "</div>"
      ],
      "text/plain": [
       "                          country  year  GDP_Per_Capita\n",
       "1                     Afghanistan  2020     1968.341002\n",
       "22    Africa Eastern and Southern  2020     3455.023119\n",
       "55     Africa Western and Central  2020     3957.933804\n",
       "88                        Albania  2020    13278.369769\n",
       "121                       Algeria  2020    10844.770764\n",
       "...                           ...   ...             ...\n",
       "7503                     Viet Nam  2020    10450.622382\n",
       "7536           West Bank and Gaza  2020     5402.538773\n",
       "7565                        World  2020    16204.169107\n",
       "7598                       Zambia  2020     3183.650773\n",
       "7631                     Zimbabwe  2020     1990.319419\n",
       "\n",
       "[242 rows x 3 columns]"
      ]
     },
     "execution_count": 301,
     "metadata": {},
     "output_type": "execute_result"
    }
   ],
   "source": [
    "gdp_2020 "
   ]
  },
  {
   "cell_type": "code",
   "execution_count": 319,
   "id": "24af8f7f-47c9-4fff-b14d-5871a402dd0d",
   "metadata": {},
   "outputs": [],
   "source": [
    "gdp_1990 = gdp_df.loc[gdp_df.year == 1990]"
   ]
  },
  {
   "cell_type": "code",
   "execution_count": 327,
   "id": "cce8c35e-9bdd-4dd5-aaa0-cb5e4af08c09",
   "metadata": {},
   "outputs": [],
   "source": [
    "gdp_2020_1990 = pd.merge(gdp_1990,gdp_2020 , on = 'country', how = 'inner')"
   ]
  },
  {
   "cell_type": "code",
   "execution_count": 339,
   "id": "735d079c-0b79-4f8c-9ff9-e62f3177fad8",
   "metadata": {},
   "outputs": [
    {
     "data": {
      "text/html": [
       "<div>\n",
       "<style scoped>\n",
       "    .dataframe tbody tr th:only-of-type {\n",
       "        vertical-align: middle;\n",
       "    }\n",
       "\n",
       "    .dataframe tbody tr th {\n",
       "        vertical-align: top;\n",
       "    }\n",
       "\n",
       "    .dataframe thead th {\n",
       "        text-align: right;\n",
       "    }\n",
       "</style>\n",
       "<table border=\"1\" class=\"dataframe\">\n",
       "  <thead>\n",
       "    <tr style=\"text-align: right;\">\n",
       "      <th></th>\n",
       "      <th>country</th>\n",
       "      <th>year_x</th>\n",
       "      <th>GDP_Per_Capita_x</th>\n",
       "      <th>year_y</th>\n",
       "      <th>GDP_Per_Capita_y</th>\n",
       "    </tr>\n",
       "  </thead>\n",
       "  <tbody>\n",
       "    <tr>\n",
       "      <th>15</th>\n",
       "      <td>Barbados</td>\n",
       "      <td>1990</td>\n",
       "      <td>14097.395550</td>\n",
       "      <td>2020</td>\n",
       "      <td>13805.777541</td>\n",
       "    </tr>\n",
       "    <tr>\n",
       "      <th>25</th>\n",
       "      <td>Brunei</td>\n",
       "      <td>1990</td>\n",
       "      <td>70358.724094</td>\n",
       "      <td>2020</td>\n",
       "      <td>61603.550804</td>\n",
       "    </tr>\n",
       "    <tr>\n",
       "      <th>28</th>\n",
       "      <td>Burundi</td>\n",
       "      <td>1990</td>\n",
       "      <td>1175.155086</td>\n",
       "      <td>2020</td>\n",
       "      <td>711.355263</td>\n",
       "    </tr>\n",
       "    <tr>\n",
       "      <th>34</th>\n",
       "      <td>Central African Republic</td>\n",
       "      <td>1990</td>\n",
       "      <td>1200.613390</td>\n",
       "      <td>2020</td>\n",
       "      <td>847.765012</td>\n",
       "    </tr>\n",
       "    <tr>\n",
       "      <th>41</th>\n",
       "      <td>Congo</td>\n",
       "      <td>1990</td>\n",
       "      <td>5007.319245</td>\n",
       "      <td>2020</td>\n",
       "      <td>3384.654335</td>\n",
       "    </tr>\n",
       "    <tr>\n",
       "      <th>45</th>\n",
       "      <td>Dem. Rep. Congo</td>\n",
       "      <td>1990</td>\n",
       "      <td>1750.169739</td>\n",
       "      <td>2020</td>\n",
       "      <td>1044.071214</td>\n",
       "    </tr>\n",
       "    <tr>\n",
       "      <th>66</th>\n",
       "      <td>Fragile and conflict affected situations</td>\n",
       "      <td>1990</td>\n",
       "      <td>4864.814075</td>\n",
       "      <td>2020</td>\n",
       "      <td>4357.621312</td>\n",
       "    </tr>\n",
       "    <tr>\n",
       "      <th>68</th>\n",
       "      <td>Gabon</td>\n",
       "      <td>1990</td>\n",
       "      <td>17559.006114</td>\n",
       "      <td>2020</td>\n",
       "      <td>13903.288955</td>\n",
       "    </tr>\n",
       "    <tr>\n",
       "      <th>76</th>\n",
       "      <td>Guinea-Bissau</td>\n",
       "      <td>1990</td>\n",
       "      <td>1998.173206</td>\n",
       "      <td>2020</td>\n",
       "      <td>1803.630591</td>\n",
       "    </tr>\n",
       "    <tr>\n",
       "      <th>78</th>\n",
       "      <td>Haiti</td>\n",
       "      <td>1990</td>\n",
       "      <td>3612.815105</td>\n",
       "      <td>2020</td>\n",
       "      <td>2970.462845</td>\n",
       "    </tr>\n",
       "    <tr>\n",
       "      <th>99</th>\n",
       "      <td>Kiribati</td>\n",
       "      <td>1990</td>\n",
       "      <td>2045.272278</td>\n",
       "      <td>2020</td>\n",
       "      <td>1897.061922</td>\n",
       "    </tr>\n",
       "    <tr>\n",
       "      <th>101</th>\n",
       "      <td>Kyrgyz Republic</td>\n",
       "      <td>1990</td>\n",
       "      <td>5158.317569</td>\n",
       "      <td>2020</td>\n",
       "      <td>4726.196559</td>\n",
       "    </tr>\n",
       "    <tr>\n",
       "      <th>115</th>\n",
       "      <td>Madagascar</td>\n",
       "      <td>1990</td>\n",
       "      <td>1808.743539</td>\n",
       "      <td>2020</td>\n",
       "      <td>1436.206950</td>\n",
       "    </tr>\n",
       "    <tr>\n",
       "      <th>183</th>\n",
       "      <td>Tajikistan</td>\n",
       "      <td>1990</td>\n",
       "      <td>3990.869035</td>\n",
       "      <td>2020</td>\n",
       "      <td>3651.942660</td>\n",
       "    </tr>\n",
       "    <tr>\n",
       "      <th>186</th>\n",
       "      <td>The Bahamas</td>\n",
       "      <td>1990</td>\n",
       "      <td>35674.455631</td>\n",
       "      <td>2020</td>\n",
       "      <td>25780.414176</td>\n",
       "    </tr>\n",
       "    <tr>\n",
       "      <th>187</th>\n",
       "      <td>The Gambia</td>\n",
       "      <td>1990</td>\n",
       "      <td>2080.158085</td>\n",
       "      <td>2020</td>\n",
       "      <td>2042.620289</td>\n",
       "    </tr>\n",
       "    <tr>\n",
       "      <th>195</th>\n",
       "      <td>Ukraine</td>\n",
       "      <td>1990</td>\n",
       "      <td>16428.480469</td>\n",
       "      <td>2020</td>\n",
       "      <td>12407.790039</td>\n",
       "    </tr>\n",
       "    <tr>\n",
       "      <th>196</th>\n",
       "      <td>United Arab Emirates</td>\n",
       "      <td>1990</td>\n",
       "      <td>105893.626059</td>\n",
       "      <td>2020</td>\n",
       "      <td>67668.286641</td>\n",
       "    </tr>\n",
       "    <tr>\n",
       "      <th>206</th>\n",
       "      <td>Zimbabwe</td>\n",
       "      <td>1990</td>\n",
       "      <td>2704.757299</td>\n",
       "      <td>2020</td>\n",
       "      <td>1990.319419</td>\n",
       "    </tr>\n",
       "  </tbody>\n",
       "</table>\n",
       "</div>"
      ],
      "text/plain": [
       "                                      country  year_x  GDP_Per_Capita_x  \\\n",
       "15                                   Barbados    1990      14097.395550   \n",
       "25                                     Brunei    1990      70358.724094   \n",
       "28                                    Burundi    1990       1175.155086   \n",
       "34                   Central African Republic    1990       1200.613390   \n",
       "41                                      Congo    1990       5007.319245   \n",
       "45                            Dem. Rep. Congo    1990       1750.169739   \n",
       "66   Fragile and conflict affected situations    1990       4864.814075   \n",
       "68                                      Gabon    1990      17559.006114   \n",
       "76                              Guinea-Bissau    1990       1998.173206   \n",
       "78                                      Haiti    1990       3612.815105   \n",
       "99                                   Kiribati    1990       2045.272278   \n",
       "101                           Kyrgyz Republic    1990       5158.317569   \n",
       "115                                Madagascar    1990       1808.743539   \n",
       "183                                Tajikistan    1990       3990.869035   \n",
       "186                               The Bahamas    1990      35674.455631   \n",
       "187                                The Gambia    1990       2080.158085   \n",
       "195                                   Ukraine    1990      16428.480469   \n",
       "196                      United Arab Emirates    1990     105893.626059   \n",
       "206                                  Zimbabwe    1990       2704.757299   \n",
       "\n",
       "     year_y  GDP_Per_Capita_y  \n",
       "15     2020      13805.777541  \n",
       "25     2020      61603.550804  \n",
       "28     2020        711.355263  \n",
       "34     2020        847.765012  \n",
       "41     2020       3384.654335  \n",
       "45     2020       1044.071214  \n",
       "66     2020       4357.621312  \n",
       "68     2020      13903.288955  \n",
       "76     2020       1803.630591  \n",
       "78     2020       2970.462845  \n",
       "99     2020       1897.061922  \n",
       "101    2020       4726.196559  \n",
       "115    2020       1436.206950  \n",
       "183    2020       3651.942660  \n",
       "186    2020      25780.414176  \n",
       "187    2020       2042.620289  \n",
       "195    2020      12407.790039  \n",
       "196    2020      67668.286641  \n",
       "206    2020       1990.319419  "
      ]
     },
     "execution_count": 339,
     "metadata": {},
     "output_type": "execute_result"
    }
   ],
   "source": [
    "gdp_2020_1990.loc[gdp_2020_1990.GDP_Per_Capita_x > gdp_2020_1990.GDP_Per_Capita_y]"
   ]
  },
  {
   "cell_type": "code",
   "execution_count": null,
   "id": "c8611a3d-eaf9-4a71-9ee3-100dbf8bde62",
   "metadata": {},
   "outputs": [],
   "source": []
  },
  {
   "cell_type": "code",
   "execution_count": null,
   "id": "a76c2fc5-2ba3-4393-9f1c-8ec02351db46",
   "metadata": {},
   "outputs": [],
   "source": []
  },
  {
   "cell_type": "code",
   "execution_count": null,
   "id": "b7a9e790-8e77-4f6e-9813-0dbfb079c44d",
   "metadata": {},
   "outputs": [],
   "source": []
  },
  {
   "cell_type": "code",
   "execution_count": 345,
   "id": "a1f0bd38-89ae-4d18-89ac-b2c89e2d41c9",
   "metadata": {},
   "outputs": [
    {
     "data": {
      "text/html": [
       "<div>\n",
       "<style scoped>\n",
       "    .dataframe tbody tr th:only-of-type {\n",
       "        vertical-align: middle;\n",
       "    }\n",
       "\n",
       "    .dataframe tbody tr th {\n",
       "        vertical-align: top;\n",
       "    }\n",
       "\n",
       "    .dataframe thead th {\n",
       "        text-align: right;\n",
       "    }\n",
       "</style>\n",
       "<table border=\"1\" class=\"dataframe\">\n",
       "  <thead>\n",
       "    <tr style=\"text-align: right;\">\n",
       "      <th></th>\n",
       "      <th>Country or Area</th>\n",
       "      <th>Year</th>\n",
       "      <th>Value</th>\n",
       "      <th>Value Footnotes</th>\n",
       "    </tr>\n",
       "  </thead>\n",
       "  <tbody>\n",
       "    <tr>\n",
       "      <th>0</th>\n",
       "      <td>Afghanistan</td>\n",
       "      <td>2019</td>\n",
       "      <td>17.600000</td>\n",
       "      <td>1</td>\n",
       "    </tr>\n",
       "    <tr>\n",
       "      <th>1</th>\n",
       "      <td>Afghanistan</td>\n",
       "      <td>2018</td>\n",
       "      <td>16.800000</td>\n",
       "      <td>2</td>\n",
       "    </tr>\n",
       "    <tr>\n",
       "      <th>2</th>\n",
       "      <td>Afghanistan</td>\n",
       "      <td>2017</td>\n",
       "      <td>13.500000</td>\n",
       "      <td>3</td>\n",
       "    </tr>\n",
       "    <tr>\n",
       "      <th>3</th>\n",
       "      <td>Afghanistan</td>\n",
       "      <td>2016</td>\n",
       "      <td>11.000000</td>\n",
       "      <td>4</td>\n",
       "    </tr>\n",
       "    <tr>\n",
       "      <th>4</th>\n",
       "      <td>Afghanistan</td>\n",
       "      <td>2015</td>\n",
       "      <td>8.260000</td>\n",
       "      <td>4</td>\n",
       "    </tr>\n",
       "    <tr>\n",
       "      <th>...</th>\n",
       "      <td>...</td>\n",
       "      <td>...</td>\n",
       "      <td>...</td>\n",
       "      <td>...</td>\n",
       "    </tr>\n",
       "    <tr>\n",
       "      <th>6078</th>\n",
       "      <td>Zimbabwe</td>\n",
       "      <td>1997</td>\n",
       "      <td>0.033080</td>\n",
       "      <td>NaN</td>\n",
       "    </tr>\n",
       "    <tr>\n",
       "      <th>6079</th>\n",
       "      <td>Zimbabwe</td>\n",
       "      <td>1996</td>\n",
       "      <td>0.016790</td>\n",
       "      <td>NaN</td>\n",
       "    </tr>\n",
       "    <tr>\n",
       "      <th>6080</th>\n",
       "      <td>Zimbabwe</td>\n",
       "      <td>1995</td>\n",
       "      <td>0.007684</td>\n",
       "      <td>NaN</td>\n",
       "    </tr>\n",
       "    <tr>\n",
       "      <th>6081</th>\n",
       "      <td>Zimbabwe</td>\n",
       "      <td>1994</td>\n",
       "      <td>0.001739</td>\n",
       "      <td>NaN</td>\n",
       "    </tr>\n",
       "    <tr>\n",
       "      <th>6082</th>\n",
       "      <td>Zimbabwe</td>\n",
       "      <td>1990</td>\n",
       "      <td>0.000000</td>\n",
       "      <td>NaN</td>\n",
       "    </tr>\n",
       "  </tbody>\n",
       "</table>\n",
       "<p>6083 rows × 4 columns</p>\n",
       "</div>"
      ],
      "text/plain": [
       "     Country or Area  Year      Value Value Footnotes\n",
       "0        Afghanistan  2019  17.600000               1\n",
       "1        Afghanistan  2018  16.800000               2\n",
       "2        Afghanistan  2017  13.500000               3\n",
       "3        Afghanistan  2016  11.000000               4\n",
       "4        Afghanistan  2015   8.260000               4\n",
       "...              ...   ...        ...             ...\n",
       "6078        Zimbabwe  1997   0.033080             NaN\n",
       "6079        Zimbabwe  1996   0.016790             NaN\n",
       "6080        Zimbabwe  1995   0.007684             NaN\n",
       "6081        Zimbabwe  1994   0.001739             NaN\n",
       "6082        Zimbabwe  1990   0.000000             NaN\n",
       "\n",
       "[6083 rows x 4 columns]"
      ]
     },
     "execution_count": 345,
     "metadata": {},
     "output_type": "execute_result"
    }
   ],
   "source": [
    "internet = pd.read_csv('/Users/jonathanfarro/Documents/NSS/Python/projects/gdp-and-internet-usage-jonnyfarro/data/internet_use.csv')\n",
    "internet "
   ]
  },
  {
   "cell_type": "code",
   "execution_count": 347,
   "id": "cda79570-4448-4a97-8167-ed5ecc8fb314",
   "metadata": {},
   "outputs": [],
   "source": [
    "internet = internet.drop(columns= ['Value Footnotes'])\n",
    "        "
   ]
  },
  {
   "cell_type": "code",
   "execution_count": 349,
   "id": "b9fbaa62-5760-43a7-8a3c-b5f49399b5c9",
   "metadata": {},
   "outputs": [
    {
     "name": "stdout",
     "output_type": "stream",
     "text": [
      "<class 'pandas.core.frame.DataFrame'>\n",
      "RangeIndex: 6083 entries, 0 to 6082\n",
      "Data columns (total 3 columns):\n",
      " #   Column           Non-Null Count  Dtype  \n",
      "---  ------           --------------  -----  \n",
      " 0   Country or Area  6083 non-null   object \n",
      " 1   Year             6083 non-null   int64  \n",
      " 2   Value            6083 non-null   float64\n",
      "dtypes: float64(1), int64(1), object(1)\n",
      "memory usage: 142.7+ KB\n"
     ]
    }
   ],
   "source": [
    "internet.info()\n"
   ]
  },
  {
   "cell_type": "code",
   "execution_count": 365,
   "id": "b9bf053f-4e2f-45d2-884f-58ab5fc65f42",
   "metadata": {},
   "outputs": [
    {
     "data": {
      "text/html": [
       "<div>\n",
       "<style scoped>\n",
       "    .dataframe tbody tr th:only-of-type {\n",
       "        vertical-align: middle;\n",
       "    }\n",
       "\n",
       "    .dataframe tbody tr th {\n",
       "        vertical-align: top;\n",
       "    }\n",
       "\n",
       "    .dataframe thead th {\n",
       "        text-align: right;\n",
       "    }\n",
       "</style>\n",
       "<table border=\"1\" class=\"dataframe\">\n",
       "  <thead>\n",
       "    <tr style=\"text-align: right;\">\n",
       "      <th></th>\n",
       "      <th>country</th>\n",
       "      <th>year</th>\n",
       "      <th>Internet_Users_Pct</th>\n",
       "    </tr>\n",
       "  </thead>\n",
       "  <tbody>\n",
       "    <tr>\n",
       "      <th>0</th>\n",
       "      <td>Afghanistan</td>\n",
       "      <td>2019</td>\n",
       "      <td>17.600000</td>\n",
       "    </tr>\n",
       "    <tr>\n",
       "      <th>1</th>\n",
       "      <td>Afghanistan</td>\n",
       "      <td>2018</td>\n",
       "      <td>16.800000</td>\n",
       "    </tr>\n",
       "    <tr>\n",
       "      <th>2</th>\n",
       "      <td>Afghanistan</td>\n",
       "      <td>2017</td>\n",
       "      <td>13.500000</td>\n",
       "    </tr>\n",
       "    <tr>\n",
       "      <th>3</th>\n",
       "      <td>Afghanistan</td>\n",
       "      <td>2016</td>\n",
       "      <td>11.000000</td>\n",
       "    </tr>\n",
       "    <tr>\n",
       "      <th>4</th>\n",
       "      <td>Afghanistan</td>\n",
       "      <td>2015</td>\n",
       "      <td>8.260000</td>\n",
       "    </tr>\n",
       "    <tr>\n",
       "      <th>...</th>\n",
       "      <td>...</td>\n",
       "      <td>...</td>\n",
       "      <td>...</td>\n",
       "    </tr>\n",
       "    <tr>\n",
       "      <th>6078</th>\n",
       "      <td>Zimbabwe</td>\n",
       "      <td>1997</td>\n",
       "      <td>0.033080</td>\n",
       "    </tr>\n",
       "    <tr>\n",
       "      <th>6079</th>\n",
       "      <td>Zimbabwe</td>\n",
       "      <td>1996</td>\n",
       "      <td>0.016790</td>\n",
       "    </tr>\n",
       "    <tr>\n",
       "      <th>6080</th>\n",
       "      <td>Zimbabwe</td>\n",
       "      <td>1995</td>\n",
       "      <td>0.007684</td>\n",
       "    </tr>\n",
       "    <tr>\n",
       "      <th>6081</th>\n",
       "      <td>Zimbabwe</td>\n",
       "      <td>1994</td>\n",
       "      <td>0.001739</td>\n",
       "    </tr>\n",
       "    <tr>\n",
       "      <th>6082</th>\n",
       "      <td>Zimbabwe</td>\n",
       "      <td>1990</td>\n",
       "      <td>0.000000</td>\n",
       "    </tr>\n",
       "  </tbody>\n",
       "</table>\n",
       "<p>6083 rows × 3 columns</p>\n",
       "</div>"
      ],
      "text/plain": [
       "          country  year  Internet_Users_Pct\n",
       "0     Afghanistan  2019           17.600000\n",
       "1     Afghanistan  2018           16.800000\n",
       "2     Afghanistan  2017           13.500000\n",
       "3     Afghanistan  2016           11.000000\n",
       "4     Afghanistan  2015            8.260000\n",
       "...           ...   ...                 ...\n",
       "6078     Zimbabwe  1997            0.033080\n",
       "6079     Zimbabwe  1996            0.016790\n",
       "6080     Zimbabwe  1995            0.007684\n",
       "6081     Zimbabwe  1994            0.001739\n",
       "6082     Zimbabwe  1990            0.000000\n",
       "\n",
       "[6083 rows x 3 columns]"
      ]
     },
     "execution_count": 365,
     "metadata": {},
     "output_type": "execute_result"
    }
   ],
   "source": [
    "internet = internet.rename(columns = { 'Country or Area': 'country', 'Year': 'year','Value':'Internet_Users_Pct'})\n",
    "internet"
   ]
  },
  {
   "cell_type": "code",
   "execution_count": 383,
   "id": "8274076b-6c81-4fec-a11e-04ef581f31a8",
   "metadata": {},
   "outputs": [
    {
     "data": {
      "text/html": [
       "<div>\n",
       "<style scoped>\n",
       "    .dataframe tbody tr th:only-of-type {\n",
       "        vertical-align: middle;\n",
       "    }\n",
       "\n",
       "    .dataframe tbody tr th {\n",
       "        vertical-align: top;\n",
       "    }\n",
       "\n",
       "    .dataframe thead th {\n",
       "        text-align: right;\n",
       "    }\n",
       "</style>\n",
       "<table border=\"1\" class=\"dataframe\">\n",
       "  <thead>\n",
       "    <tr style=\"text-align: right;\">\n",
       "      <th></th>\n",
       "      <th>year</th>\n",
       "      <th>count</th>\n",
       "    </tr>\n",
       "  </thead>\n",
       "  <tbody>\n",
       "    <tr>\n",
       "      <th>0</th>\n",
       "      <td>1990</td>\n",
       "      <td>226</td>\n",
       "    </tr>\n",
       "    <tr>\n",
       "      <th>1</th>\n",
       "      <td>2007</td>\n",
       "      <td>217</td>\n",
       "    </tr>\n",
       "    <tr>\n",
       "      <th>2</th>\n",
       "      <td>2008</td>\n",
       "      <td>214</td>\n",
       "    </tr>\n",
       "    <tr>\n",
       "      <th>3</th>\n",
       "      <td>2011</td>\n",
       "      <td>214</td>\n",
       "    </tr>\n",
       "    <tr>\n",
       "      <th>4</th>\n",
       "      <td>2009</td>\n",
       "      <td>214</td>\n",
       "    </tr>\n",
       "    <tr>\n",
       "      <th>5</th>\n",
       "      <td>2002</td>\n",
       "      <td>214</td>\n",
       "    </tr>\n",
       "    <tr>\n",
       "      <th>6</th>\n",
       "      <td>2001</td>\n",
       "      <td>212</td>\n",
       "    </tr>\n",
       "    <tr>\n",
       "      <th>7</th>\n",
       "      <td>2005</td>\n",
       "      <td>212</td>\n",
       "    </tr>\n",
       "    <tr>\n",
       "      <th>8</th>\n",
       "      <td>2006</td>\n",
       "      <td>212</td>\n",
       "    </tr>\n",
       "    <tr>\n",
       "      <th>9</th>\n",
       "      <td>2004</td>\n",
       "      <td>210</td>\n",
       "    </tr>\n",
       "    <tr>\n",
       "      <th>10</th>\n",
       "      <td>2000</td>\n",
       "      <td>210</td>\n",
       "    </tr>\n",
       "    <tr>\n",
       "      <th>11</th>\n",
       "      <td>2010</td>\n",
       "      <td>209</td>\n",
       "    </tr>\n",
       "    <tr>\n",
       "      <th>12</th>\n",
       "      <td>2012</td>\n",
       "      <td>209</td>\n",
       "    </tr>\n",
       "    <tr>\n",
       "      <th>13</th>\n",
       "      <td>2003</td>\n",
       "      <td>208</td>\n",
       "    </tr>\n",
       "    <tr>\n",
       "      <th>14</th>\n",
       "      <td>1999</td>\n",
       "      <td>207</td>\n",
       "    </tr>\n",
       "    <tr>\n",
       "      <th>15</th>\n",
       "      <td>2016</td>\n",
       "      <td>206</td>\n",
       "    </tr>\n",
       "    <tr>\n",
       "      <th>16</th>\n",
       "      <td>2017</td>\n",
       "      <td>205</td>\n",
       "    </tr>\n",
       "    <tr>\n",
       "      <th>17</th>\n",
       "      <td>2014</td>\n",
       "      <td>204</td>\n",
       "    </tr>\n",
       "    <tr>\n",
       "      <th>18</th>\n",
       "      <td>2013</td>\n",
       "      <td>203</td>\n",
       "    </tr>\n",
       "    <tr>\n",
       "      <th>19</th>\n",
       "      <td>2015</td>\n",
       "      <td>203</td>\n",
       "    </tr>\n",
       "    <tr>\n",
       "      <th>20</th>\n",
       "      <td>1998</td>\n",
       "      <td>195</td>\n",
       "    </tr>\n",
       "    <tr>\n",
       "      <th>21</th>\n",
       "      <td>1997</td>\n",
       "      <td>188</td>\n",
       "    </tr>\n",
       "    <tr>\n",
       "      <th>22</th>\n",
       "      <td>2021</td>\n",
       "      <td>186</td>\n",
       "    </tr>\n",
       "    <tr>\n",
       "      <th>23</th>\n",
       "      <td>2020</td>\n",
       "      <td>186</td>\n",
       "    </tr>\n",
       "    <tr>\n",
       "      <th>24</th>\n",
       "      <td>2019</td>\n",
       "      <td>185</td>\n",
       "    </tr>\n",
       "    <tr>\n",
       "      <th>25</th>\n",
       "      <td>2022</td>\n",
       "      <td>184</td>\n",
       "    </tr>\n",
       "    <tr>\n",
       "      <th>26</th>\n",
       "      <td>1996</td>\n",
       "      <td>177</td>\n",
       "    </tr>\n",
       "    <tr>\n",
       "      <th>27</th>\n",
       "      <td>2018</td>\n",
       "      <td>174</td>\n",
       "    </tr>\n",
       "    <tr>\n",
       "      <th>28</th>\n",
       "      <td>1995</td>\n",
       "      <td>141</td>\n",
       "    </tr>\n",
       "    <tr>\n",
       "      <th>29</th>\n",
       "      <td>1994</td>\n",
       "      <td>92</td>\n",
       "    </tr>\n",
       "    <tr>\n",
       "      <th>30</th>\n",
       "      <td>1993</td>\n",
       "      <td>66</td>\n",
       "    </tr>\n",
       "    <tr>\n",
       "      <th>31</th>\n",
       "      <td>1992</td>\n",
       "      <td>50</td>\n",
       "    </tr>\n",
       "    <tr>\n",
       "      <th>32</th>\n",
       "      <td>1991</td>\n",
       "      <td>39</td>\n",
       "    </tr>\n",
       "    <tr>\n",
       "      <th>33</th>\n",
       "      <td>2023</td>\n",
       "      <td>11</td>\n",
       "    </tr>\n",
       "  </tbody>\n",
       "</table>\n",
       "</div>"
      ],
      "text/plain": [
       "    year  count\n",
       "0   1990    226\n",
       "1   2007    217\n",
       "2   2008    214\n",
       "3   2011    214\n",
       "4   2009    214\n",
       "5   2002    214\n",
       "6   2001    212\n",
       "7   2005    212\n",
       "8   2006    212\n",
       "9   2004    210\n",
       "10  2000    210\n",
       "11  2010    209\n",
       "12  2012    209\n",
       "13  2003    208\n",
       "14  1999    207\n",
       "15  2016    206\n",
       "16  2017    205\n",
       "17  2014    204\n",
       "18  2013    203\n",
       "19  2015    203\n",
       "20  1998    195\n",
       "21  1997    188\n",
       "22  2021    186\n",
       "23  2020    186\n",
       "24  2019    185\n",
       "25  2022    184\n",
       "26  1996    177\n",
       "27  2018    174\n",
       "28  1995    141\n",
       "29  1994     92\n",
       "30  1993     66\n",
       "31  1992     50\n",
       "32  1991     39\n",
       "33  2023     11"
      ]
     },
     "execution_count": 383,
     "metadata": {},
     "output_type": "execute_result"
    }
   ],
   "source": [
    "internet_counts = internet.value_counts('year').to_frame().reset_index()\n",
    "internet_counts"
   ]
  },
  {
   "cell_type": "code",
   "execution_count": 387,
   "id": "d1aa259f-d24d-42fd-9d57-893f3cffb3c6",
   "metadata": {},
   "outputs": [],
   "source": [
    "internet_counts.columns = ['year','count']\n"
   ]
  },
  {
   "cell_type": "code",
   "execution_count": 409,
   "id": "572f644b-d89a-4a32-bfc0-cd36e5ec6b94",
   "metadata": {},
   "outputs": [
    {
     "data": {
      "text/plain": [
       "<Axes: xlabel='year'>"
      ]
     },
     "execution_count": 409,
     "metadata": {},
     "output_type": "execute_result"
    },
    {
     "data": {
      "image/png": "[encoded data removed]",
      "text/plain": [
       "<Figure size 640x480 with 1 Axes>"
      ]
     },
     "metadata": {},
     "output_type": "display_data"
    }
   ],
   "source": [
    "internet_counts.sort_values('year').plot(x = 'year', y = 'count')"
   ]
  },
  {
   "cell_type": "code",
   "execution_count": 86,
   "id": "6134c08e-b798-43b8-9497-4ac9c908900c",
   "metadata": {},
   "outputs": [
    {
     "data": {
      "text/html": [
       "<div>\n",
       "<style scoped>\n",
       "    .dataframe tbody tr th:only-of-type {\n",
       "        vertical-align: middle;\n",
       "    }\n",
       "\n",
       "    .dataframe tbody tr th {\n",
       "        vertical-align: top;\n",
       "    }\n",
       "\n",
       "    .dataframe thead th {\n",
       "        text-align: right;\n",
       "    }\n",
       "</style>\n",
       "<table border=\"1\" class=\"dataframe\">\n",
       "  <thead>\n",
       "    <tr style=\"text-align: right;\">\n",
       "      <th></th>\n",
       "      <th>country</th>\n",
       "      <th>year</th>\n",
       "      <th>Internet_Users_Pct</th>\n",
       "    </tr>\n",
       "  </thead>\n",
       "  <tbody>\n",
       "    <tr>\n",
       "      <th>1570</th>\n",
       "      <td>Denmark</td>\n",
       "      <td>1990</td>\n",
       "      <td>0.097277</td>\n",
       "    </tr>\n",
       "  </tbody>\n",
       "</table>\n",
       "</div>"
      ],
      "text/plain": [
       "      country  year  Internet_Users_Pct\n",
       "1570  Denmark  1990            0.097277"
      ]
     },
     "execution_count": 86,
     "metadata": {},
     "output_type": "execute_result"
    }
   ],
   "source": [
    " internet.loc[internet['Internet_Users_Pct'] > 0 ].sort_values('year').head(1)\n"
   ]
  },
  {
   "cell_type": "code",
   "execution_count": 399,
   "id": "c78e4c44-76e3-4b2d-94d8-cf4a2a45c9e1",
   "metadata": {},
   "outputs": [],
   "source": [
    "internet_00_14 = internet.loc[internet.year.isin([2000,2014])]"
   ]
  },
  {
   "cell_type": "code",
   "execution_count": 405,
   "id": "8edd6b19-b988-4f7b-9692-27b6f7818530",
   "metadata": {},
   "outputs": [
    {
     "data": {
      "text/plain": [
       "<Axes: xlabel='year', ylabel='Internet_Users_Pct'>"
      ]
     },
     "execution_count": 405,
     "metadata": {},
     "output_type": "execute_result"
    },
    {
     "data": {
      "image/png": "[encoded data removed]",
      "text/plain": [
       "<Figure size 640x480 with 1 Axes>"
      ]
     },
     "metadata": {},
     "output_type": "display_data"
    }
   ],
   "source": [
    "sns.boxplot(x= 'year', y = 'Internet_Users_Pct', data = internet_00_14)"
   ]
  },
  {
   "cell_type": "code",
   "execution_count": 417,
   "id": "05d1b9e2-c559-4d4e-97ca-b16b867412b1",
   "metadata": {},
   "outputs": [
    {
     "data": {
      "text/plain": [
       "10"
      ]
     },
     "execution_count": 417,
     "metadata": {},
     "output_type": "execute_result"
    }
   ],
   "source": [
    "len(internet.loc [(internet.year == 2014) & (internet.Internet_Users_Pct < 5)])"
   ]
  },
  {
   "cell_type": "code",
   "execution_count": 453,
   "id": "ae624c7a-377d-4132-bca3-1926d4ea286f",
   "metadata": {},
   "outputs": [],
   "source": [
    "merged = pd.merge(gdp_df,internet, on  = ['country','year'],how = 'outer')"
   ]
  },
  {
   "cell_type": "code",
   "execution_count": 479,
   "id": "c1672557-0f94-4925-b757-49cf7e287e6d",
   "metadata": {},
   "outputs": [],
   "source": [
    "top_3 = merged.loc[merged.year == 2014].sort_values(\"Internet_Users_Pct\", ascending = False).head(4).country"
   ]
  },
  {
   "cell_type": "code",
   "execution_count": 481,
   "id": "9c1312c4-92d3-45ad-848b-a32544781f53",
   "metadata": {},
   "outputs": [
    {
     "data": {
      "text/plain": [
       "3820                        Iceland\n",
       "2780    Falkland (Malvinas) Islands\n",
       "794                         Bermuda\n",
       "6243                         Norway\n",
       "Name: country, dtype: object"
      ]
     },
     "execution_count": 481,
     "metadata": {},
     "output_type": "execute_result"
    }
   ],
   "source": [
    "top_3"
   ]
  },
  {
   "cell_type": "code",
   "execution_count": 483,
   "id": "3916f226-2c8c-4414-b537-90c1e297bdb5",
   "metadata": {},
   "outputs": [],
   "source": [
    "top3 = merged.loc[merged.country.isin(top_3)]"
   ]
  },
  {
   "cell_type": "code",
   "execution_count": 485,
   "id": "de864860-114a-4eea-a532-7b1417257fee",
   "metadata": {},
   "outputs": [
    {
     "data": {
      "text/plain": [
       "<seaborn.axisgrid.FacetGrid at 0x16c425640>"
      ]
     },
     "execution_count": 485,
     "metadata": {},
     "output_type": "execute_result"
    },
    {
     "data": {
      "image/png": "[encoded data removed]",
      "text/plain": [
       "<Figure size 1200x300 with 4 Axes>"
      ]
     },
     "metadata": {},
     "output_type": "display_data"
    }
   ],
   "source": [
    "g = sns.FacetGrid(top3, col = 'country')\n",
    "g.map(sns.lineplot, 'year', 'GDP_Per_Capita')"
   ]
  },
  {
   "cell_type": "code",
   "execution_count": 489,
   "id": "4665b325-9c80-49c3-a829-89d427fee15a",
   "metadata": {},
   "outputs": [],
   "source": [
    "merg_2014 = merged.loc[merged.year == 2014]\n"
   ]
  },
  {
   "cell_type": "code",
   "execution_count": 499,
   "id": "d270c777-afdb-41a2-b20e-4a0af35508fd",
   "metadata": {},
   "outputs": [
    {
     "data": {
      "text/plain": [
       "<Axes: xlabel='Internet_Users_Pct', ylabel='GDP_Per_Capita'>"
      ]
     },
     "execution_count": 499,
     "metadata": {},
     "output_type": "execute_result"
    },
    {
     "data": {
      "image/png": "[encoded data removed]",
      "text/plain": [
       "<Figure size 640x480 with 1 Axes>"
      ]
     },
     "metadata": {},
     "output_type": "display_data"
    }
   ],
   "source": [
    "sns.scatterplot(x = \"Internet_Users_Pct\", y = \"GDP_Per_Capita\", data = merg_2014, alpha = 0.5)"
   ]
  },
  {
   "cell_type": "code",
   "execution_count": 503,
   "id": "1fdebf47-7764-4557-9d88-c05fec3eb395",
   "metadata": {},
   "outputs": [
    {
     "name": "stderr",
     "output_type": "stream",
     "text": [
      "/var/folders/q1/g8w_03zs6gvbwv16kzb3fvk80000gn/T/ipykernel_82356/2661469064.py:1: SettingWithCopyWarning: \n",
      "A value is trying to be set on a copy of a slice from a DataFrame.\n",
      "Try using .loc[row_indexer,col_indexer] = value instead\n",
      "\n",
      "See the caveats in the documentation: https://pandas.pydata.org/pandas-docs/stable/user_guide/indexing.html#returning-a-view-versus-a-copy\n",
      "  merg_2014['GDP_group'] = pd.qcut(merg_2014.GDP_Per_Capita, q = 3, labels = ['low','med','hi'])\n"
     ]
    }
   ],
   "source": [
    "merg_2014['GDP_group'] = pd.qcut(merg_2014.GDP_Per_Capita, q = 3, labels = ['low','med','hi'])"
   ]
  },
  {
   "cell_type": "code",
   "execution_count": 509,
   "id": "df4a48fe-36b7-4e54-a7de-3b048d03ad97",
   "metadata": {},
   "outputs": [
    {
     "name": "stderr",
     "output_type": "stream",
     "text": [
      "/var/folders/q1/g8w_03zs6gvbwv16kzb3fvk80000gn/T/ipykernel_82356/329839587.py:1: FutureWarning: The default of observed=False is deprecated and will be changed to True in a future version of pandas. Pass observed=False to retain current behavior or observed=True to adopt the future default and silence this warning.\n",
      "  merg_2014.groupby('GDP_group')['Internet_Users_Pct'].median()\n"
     ]
    },
    {
     "data": {
      "text/plain": [
       "GDP_group\n",
       "low    11.0000\n",
       "med    45.8752\n",
       "hi     75.9800\n",
       "Name: Internet_Users_Pct, dtype: float64"
      ]
     },
     "execution_count": 509,
     "metadata": {},
     "output_type": "execute_result"
    }
   ],
   "source": [
    "merg_2014.groupby('GDP_group')['Internet_Users_Pct'].median()"
   ]
  },
  {
   "cell_type": "code",
   "execution_count": null,
   "id": "408a2cb1-c8bf-41f8-9ee0-305abe86d4ae",
   "metadata": {},
   "outputs": [],
   "source": []
  }
 ],
 "metadata": {
  "kernelspec": {
   "display_name": "Python 3 (ipykernel)",
   "language": "python",
   "name": "python3"
  },
  "language_info": {
   "codemirror_mode": {
    "name": "ipython",
    "version": 3
   },
   "file_extension": ".py",
   "mimetype": "text/x-python",
   "name": "python",
   "nbconvert_exporter": "python",
   "pygments_lexer": "ipython3",
   "version": "3.12.4"
  },
  "panel-cell-order": [
   "6b41befe-7fa1-41e6-a62b-6b1606febe35",
   "295888dc-a0ef-41ea-9f07-cd41bd9b03d9",
   "691cbc17-8637-411e-bea3-a72ef8da635b",
   "5f053c0a-922a-4c6a-bad9-e965216ee8fc",
   "aadf18ee-f7b3-4e1c-b5d0-f3485e020833"
  ]
 },
 "nbformat": 4,
 "nbformat_minor": 5
}
